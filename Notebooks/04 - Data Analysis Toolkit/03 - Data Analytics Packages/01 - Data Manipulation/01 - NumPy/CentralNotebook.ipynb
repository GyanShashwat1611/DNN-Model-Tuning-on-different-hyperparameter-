{
  "nbformat": 4,
  "nbformat_minor": 0,
  "metadata": {
    "colab": {
      "name": "Code Institute - Data Practitioner - NumPy.ipynb",
      "provenance": [],
      "collapsed_sections": [],
      "toc_visible": true,
      "include_colab_link": true
    },
    "kernelspec": {
      "name": "python383jvsc74a57bd0b3ba2566441a7c06988d0923437866b63cedc61552a5af99d1f4fb67d367b25f",
      "display_name": "Python 3.8.3 64-bit ('base': conda)"
    },
    "language_info": {
      "name": "python",
      "version": "3.8.3"
    }
  },
  "cells": [
    {
      "cell_type": "markdown",
      "metadata": {
        "id": "view-in-github",
        "colab_type": "text"
      },
      "source": [
        "<a href=\"https://colab.research.google.com/github/GyanShashwat1611/DNN-Model-Tuning-on-different-hyperparameter-/blob/master/Notebooks/04%20-%20Data%20Analysis%20Toolkit/03%20-%20Data%20Analytics%20Packages/01%20-%20Data%20Manipulation/01%20-%20NumPy/CentralNotebook.ipynb\" target=\"_parent\"><img src=\"https://colab.research.google.com/assets/colab-badge.svg\" alt=\"Open In Colab\"/></a>"
      ]
    },
    {
      "cell_type": "markdown",
      "metadata": {
        "id": "SoWVo5csafaS"
      },
      "source": [
        "# NumPy - Unit 01"
      ]
    },
    {
      "cell_type": "markdown",
      "metadata": {
        "id": "LiujW2ORafaX"
      },
      "source": [
        "## Unit Objectives\n",
        "* Understand what a NumPy **array** is\n",
        "* Experiment with array **builtin methods**\n",
        "* Use array **methods and attributes**\n",
        "\n",
        "<img src=\"https://raw.githubusercontent.com/numpy/numpy/181f273a59744d58f90f45d953a3285484c72cba/branding/logo/primary/numpylogo.svg\" width=\"25%\" height=\"25%\" />"
      ]
    },
    {
      "cell_type": "markdown",
      "metadata": {
        "id": "TXeFM9FuafaY"
      },
      "source": [
        "* NumPy stands for Numerical Python and is a library for the Python programming language, adding support for large, multi-dimensional arrays and matrices, along with a large collection of high-level mathematical functions to operate on these arrays.\n",
        "* It is a **Linear Algebra** Library and almost all of the libraries used in Data Science rely on NumPy as one of their main building blocks."
      ]
    },
    {
      "cell_type": "markdown",
      "metadata": {
        "id": "QRr9AthgafaZ"
      },
      "source": [
        "---"
      ]
    },
    {
      "cell_type": "markdown",
      "metadata": {
        "id": "3hmB6wo1afaZ"
      },
      "source": [
        "## Import Package"
      ]
    },
    {
      "cell_type": "markdown",
      "metadata": {
        "id": "W15F1h8Cafaa"
      },
      "source": [
        "* Colab offers a session with a set of packages already installed. To check which packages are installed type in a code cell **!pip freeze** and run it. In case NumPy is not installed, you may type and run in a code cell **!pip install numpy**\n",
        "* NumPy should be already incluced in this set of packages. You will just need to import it. "
      ]
    },
    {
      "cell_type": "code",
      "metadata": {
        "id": "XrgSs9DCafaa"
      },
      "source": [
        "import numpy as np"
      ],
      "execution_count": null,
      "outputs": []
    },
    {
      "cell_type": "markdown",
      "metadata": {
        "id": "xxqw3evSafab"
      },
      "source": [
        "---"
      ]
    },
    {
      "cell_type": "markdown",
      "metadata": {
        "id": "1fUuwjqHafab"
      },
      "source": [
        "## Array"
      ]
    },
    {
      "cell_type": "markdown",
      "metadata": {
        "id": "kUcP74juafab"
      },
      "source": [
        "* An **array** is the foundation of NumPy. It is defined as a grid of values, either numeric or another data type. It comes as a vector or matrix, where vector is a 1-d array, and matrix is 2-d (or n dimensional) array. A matrix can also have have 1 row x 1 column.\n",
        "* An array is **useful** because it helps to organize data in a grid. With this structure, elements can easily be sorted or searched.\n",
        "* We can create a 1-d array based on a python list:\n"
      ]
    },
    {
      "cell_type": "code",
      "metadata": {
        "id": "B0jb4L3Zafac"
      },
      "source": [
        "my_list = [7,9,88,4621]\n",
        "my_list\n",
        "\n",
        "#### this content goes to the video ####"
      ],
      "execution_count": null,
      "outputs": []
    },
    {
      "cell_type": "markdown",
      "metadata": {
        "id": "LLlFlGdJrM6F"
      },
      "source": [
        "* To create an array from a list, use **np.array()** and pass in the list as an argument\n",
        "* Please note below 1 bracket before the first item. That indicates it is a **1-d array**."
      ]
    },
    {
      "cell_type": "code",
      "metadata": {
        "id": "UID5jyt4afad"
      },
      "source": [
        "arr = np.array(my_list)\n",
        "arr\n",
        "\n",
        "#### this content goes to the video ####"
      ],
      "execution_count": null,
      "outputs": []
    },
    {
      "cell_type": "markdown",
      "metadata": {
        "id": "rdsi7otDafae"
      },
      "source": [
        "* Just a side note\n",
        "  * You don't have necessarily to pass the list as a variable at np.array() function, \n",
        "  * You can write the list directly if you prefer, for example: np.array([7,9,88,4621])\n",
        "  * Both will create the same array"
      ]
    },
    {
      "cell_type": "markdown",
      "metadata": {
        "id": "J9KD85u-afae"
      },
      "source": [
        "* An array can **handle** numbers (integer, float etc), strings (text), timestamps (dates)."
      ]
    },
    {
      "cell_type": "code",
      "metadata": {
        "id": "kMT4MrSEafae"
      },
      "source": [
        "my_list = ['text','label_example',55,150,'final_text_example']\n",
        "arr = np.array(my_list)\n",
        "arr"
      ],
      "execution_count": null,
      "outputs": []
    },
    {
      "cell_type": "markdown",
      "metadata": {
        "id": "eQpfd0Vnafaf"
      },
      "source": [
        "* If your list has more than 1 dimension, you can create a **2-d array**, or matrix.\n",
        "* Please note the 2 brackets before the first item. That indicates it is a 2-d array.\n",
        "* A two dimensional array is said to have two axes\n",
        "* The example below has axes both of which have a length of 3  **(LENGTH YOU MEAN ROW OR COLUMN?)**\n"
      ]
    },
    {
      "cell_type": "code",
      "metadata": {
        "id": "HN-ckXuiafaf"
      },
      "source": [
        "my_matrix = [[10,80,77], [99,99,99], [\"this is good\",999,\"example\"]]\n",
        "my_matrix"
      ],
      "execution_count": null,
      "outputs": []
    },
    {
      "cell_type": "code",
      "metadata": {
        "id": "M1gntM_Eafaf"
      },
      "source": [
        "arr = np.array(my_matrix)\n",
        "arr"
      ],
      "execution_count": null,
      "outputs": []
    },
    {
      "cell_type": "markdown",
      "metadata": {
        "id": "LbusOBguxZbH"
      },
      "source": [
        "* Although you can create an array from a python list of multiple data types it is recommended that you do not\n",
        "* An array is most efficient when the data type within it is homogeneous\n",
        "* Arrays are faster and more memory efficient than Python lists which becomes very important when dealing with big data sets"
      ]
    },
    {
      "cell_type": "code",
      "metadata": {
        "id": "WUm3lXM2x-0Y"
      },
      "source": [
        "words = np.array(['bacon', 'egg', 'spam'])\n",
        "words"
      ],
      "execution_count": null,
      "outputs": []
    },
    {
      "cell_type": "code",
      "metadata": {
        "id": "jT3WNwNDyvCq"
      },
      "source": [
        "numbers = np.array([1, 2, 3, 4, 5, 6, 7, 8 ,9])\n",
        "numbers"
      ],
      "execution_count": null,
      "outputs": []
    },
    {
      "cell_type": "markdown",
      "metadata": {
        "id": "X--pV_Rwafah"
      },
      "source": [
        "---"
      ]
    },
    {
      "cell_type": "markdown",
      "metadata": {
        "id": "4h2HeuPSafah"
      },
      "source": [
        "## Built-in methods to generate arrays"
      ]
    },
    {
      "cell_type": "markdown",
      "metadata": {
        "id": "-sPgQthkafai"
      },
      "source": [
        "* You can **generate data for your arrays** using built-in methods\n",
        "* You can quickly create an **evenly spaced** array of numbers using np.arange(). \n",
        "    * You may provide 3 arguments: the start, stop and step size of values interval. \n",
        "    * Stop argument is not **inclusive**. \n",
        "    * This is similar to using range() in Python "
      ]
    },
    {
      "cell_type": "code",
      "metadata": {
        "id": "Zbg_OIHTsujd"
      },
      "source": [
        "arr = np.arange(start=1,stop=9,step=1)\n",
        "arr\n",
        "#### this content goes to the video ####"
      ],
      "execution_count": null,
      "outputs": []
    },
    {
      "cell_type": "markdown",
      "metadata": {
        "id": "iB95_Lk6KkV-"
      },
      "source": [
        "* Note that 9 is not included, it is not inclusive. \n",
        "* In this case, if you want the number 9, you should add 1 and consider stop = 10"
      ]
    },
    {
      "cell_type": "code",
      "metadata": {
        "id": "oGlP7jYeKgmn"
      },
      "source": [
        "arr = np.arange(start=1,stop=10,step=1)\n",
        "arr"
      ],
      "execution_count": null,
      "outputs": []
    },
    {
      "cell_type": "markdown",
      "metadata": {
        "id": "W99BTftBKq2v"
      },
      "source": [
        "* Play around with different step to see the effect. You may try and see the effect with step as 1, 0.5, 2, and 5."
      ]
    },
    {
      "cell_type": "code",
      "metadata": {
        "id": "U7UUGzrvafai"
      },
      "source": [
        "arr = np.arange(start=1,stop=9,step=1)\n",
        "arr"
      ],
      "execution_count": null,
      "outputs": []
    },
    {
      "cell_type": "code",
      "metadata": {
        "id": "JXdxvRUvK4Kg"
      },
      "source": [
        "arr = np.arange(start=1,stop=9,step=0.5)\n",
        "arr"
      ],
      "execution_count": null,
      "outputs": []
    },
    {
      "cell_type": "code",
      "metadata": {
        "id": "UdOzpz3JGyAW"
      },
      "source": [
        "arr = np.arange(start=1,stop=9,step=2)\n",
        "arr"
      ],
      "execution_count": null,
      "outputs": []
    },
    {
      "cell_type": "code",
      "metadata": {
        "id": "_tmDVq03suxF"
      },
      "source": [
        "arr = np.arange(start=1,stop=9,step=5)\n",
        "arr"
      ],
      "execution_count": null,
      "outputs": []
    },
    {
      "cell_type": "markdown",
      "metadata": {
        "id": "Y5qlCNFmafaj"
      },
      "source": [
        "* You can also create an **array of zeros using np.zeros()**. Just pass the shape of the desired array. The example below has a shape of 2 x 3 and is a 2-d array\n",
        "* The shape is the length of the axes\n",
        "* Please note the 2 brackets before the first item. That indicates it is a 2-d array."
      ]
    },
    {
      "cell_type": "code",
      "metadata": {
        "id": "t5iDgT1oafaj"
      },
      "source": [
        "arr = np.zeros((2,3))\n",
        "arr"
      ],
      "execution_count": null,
      "outputs": []
    },
    {
      "cell_type": "markdown",
      "metadata": {
        "id": "DegTEB6lafak"
      },
      "source": [
        "* The example below has shape of 2 x 2 x 3 and is a 3-d array of zeros\n",
        "* Please note the 3 brackets before the first item. That indicates it is a 3-d array."
      ]
    },
    {
      "cell_type": "code",
      "metadata": {
        "id": "17XleZl6afak"
      },
      "source": [
        "arr = np.zeros((2,2,3))\n",
        "arr"
      ],
      "execution_count": null,
      "outputs": []
    },
    {
      "cell_type": "markdown",
      "metadata": {
        "id": "69qKLCoNafak"
      },
      "source": [
        "* You could also create an **array of all ones using np.ones()**. The example below is a 2-d array, 2 x 5 dimension."
      ]
    },
    {
      "cell_type": "code",
      "metadata": {
        "id": "CYDiO4pvafal"
      },
      "source": [
        "arr = np.ones((2,5))\n",
        "arr"
      ],
      "execution_count": null,
      "outputs": []
    },
    {
      "cell_type": "markdown",
      "metadata": {
        "id": "ifdkqxS3afal"
      },
      "source": [
        "* You can also create **identity matrix using np.eye()**, that is a square matrix that has ones along its main diagonal and zeros everywhere else.\n",
        "* The example below is an identity matrix of shape 4 x 4."
      ]
    },
    {
      "cell_type": "code",
      "metadata": {
        "id": "r7PuzIdaafal"
      },
      "source": [
        "arr = np.eye(4)\n",
        "arr"
      ],
      "execution_count": null,
      "outputs": []
    },
    {
      "cell_type": "markdown",
      "metadata": {
        "id": "uq4Hdgt8afal"
      },
      "source": [
        "* A similar function to np.arange() is **np.linspace()**, but instead of step argument, there is num argument. **Num** is the number of samples that need to be retrieved in that interval. \n",
        "  * You will provide as argument the start, end and **how many points you want in between**. \n",
        "  * Stop argument here is inclusive"
      ]
    },
    {
      "cell_type": "code",
      "metadata": {
        "id": "TF2cIMIqafam"
      },
      "source": [
        "arr = np.linspace(start=10,stop=50,num=5)\n",
        "arr\n",
        "\n",
        "#### this content goes to the video ####"
      ],
      "execution_count": null,
      "outputs": []
    },
    {
      "cell_type": "markdown",
      "metadata": {
        "id": "jCzcwt4PtkZo"
      },
      "source": [
        "* If you want 10 numbers even spaced from 10 to 50, you may change num to 10."
      ]
    },
    {
      "cell_type": "code",
      "metadata": {
        "id": "MNkJGHnPtkit"
      },
      "source": [
        "arr = np.linspace(start=10,stop=50,num=10)\n",
        "arr"
      ],
      "execution_count": null,
      "outputs": []
    },
    {
      "cell_type": "markdown",
      "metadata": {
        "id": "Khev_qWlafan"
      },
      "source": [
        "* You can also create an array of a given shape with **random values from 0 to 1 using np.random.rand()**\n",
        "    * The arguments are the shape you are interested\n",
        "    * Note: the values you will when you are executing will likely differ from what you saw in the video, since it is a randomly generated. Soon we will see it is possible to \"fix\" random generation with a parameter called *seed*."
      ]
    },
    {
      "cell_type": "code",
      "metadata": {
        "id": "XPkFN0m7afan"
      },
      "source": [
        "arr = np.random.rand(2,2)  # 2-d array\n",
        "arr\n",
        "\n",
        "#### this content goes to the video ####"
      ],
      "execution_count": null,
      "outputs": []
    },
    {
      "cell_type": "code",
      "metadata": {
        "id": "SXtH3cOKafan"
      },
      "source": [
        "arr = np.random.rand(3,4,2) # 3-d array\n",
        "arr\n",
        "\n",
        "#### this content goes to the video ####"
      ],
      "execution_count": null,
      "outputs": []
    },
    {
      "cell_type": "markdown",
      "metadata": {
        "id": "UtsfBg1aafan"
      },
      "source": [
        "* You can also create an array of given shape from a **\"standard normal\" distribution using random.randn()**\n",
        "  * The argument is the shape you are interested\n",
        "  * A standard normal distribution is a normal distribution with a mean of zero and standard deviation of 1. We will get back to that in future sections of the course"
      ]
    },
    {
      "cell_type": "code",
      "metadata": {
        "id": "8DsGpA57afao"
      },
      "source": [
        "arr = np.random.randn(8,2) # 2-d array with 8 rows and 2 columns\n",
        "arr"
      ],
      "execution_count": null,
      "outputs": []
    },
    {
      "cell_type": "code",
      "metadata": {
        "id": "0_OnVLMQafao"
      },
      "source": [
        "arr = np.random.randn(25) # 1-d array with 25 elements\n",
        "arr"
      ],
      "execution_count": null,
      "outputs": []
    },
    {
      "cell_type": "markdown",
      "metadata": {
        "id": "xQUtD0yFafao"
      },
      "source": [
        "* You can also create random integers setting the interval and size using **np.random.randint()**\n",
        "  * The arguments for interval are: low (inclusive) and high (exclusive). Size is the output shape, it can be an integer or tuple."
      ]
    },
    {
      "cell_type": "code",
      "metadata": {
        "id": "UQxsQXJkafap"
      },
      "source": [
        "arr = np.random.randint(low=10,high=50,size=5) # 1-d array, 5 elements\n",
        "arr \n",
        "\n",
        "#### this content goes to the video ####"
      ],
      "execution_count": null,
      "outputs": []
    },
    {
      "cell_type": "code",
      "metadata": {
        "id": "fHujQwoWafap"
      },
      "source": [
        "arr = np.random.randint(low=250,high=888,size=(4,3)) # 2-d array, 4 rows x 3 columns\n",
        "arr \n",
        "\n",
        "#### this content goes to the video ####"
      ],
      "execution_count": null,
      "outputs": []
    },
    {
      "cell_type": "markdown",
      "metadata": {
        "id": "GogMpJeGafap"
      },
      "source": [
        "---"
      ]
    },
    {
      "cell_type": "markdown",
      "metadata": {
        "id": "jxjgyy2Zafap"
      },
      "source": [
        "* Computers generate psuedo-random rather than truly random numbers as computers use algorithms. If you have the same starting conditions for an algorithm then you get the same output. \n",
        "* Therefore NumPy allows you to set this 'seed' value to generate 'random' numbers in a predictable fashion\n",
        "  * **Run the example below multiple times**\n",
        "  * **Note that the random values will change**"
      ]
    },
    {
      "cell_type": "code",
      "metadata": {
        "id": "HYm5Aelhafaq"
      },
      "source": [
        "arr = np.random.randint(low=10,high=50,size=5)\n",
        "arr\n",
        "\n",
        "#### this content goes to the video ####"
      ],
      "execution_count": null,
      "outputs": []
    },
    {
      "cell_type": "markdown",
      "metadata": {
        "id": "_M67WQblafaq"
      },
      "source": [
        "* You need to set **numpy seed** in order to get constant random values\n",
        "  * In a jupyter notebook code cell, you just have to add **np.seed()** before defining your array(s)\n",
        "  * The argument is seed, a integer. You can set any integer\n",
        "  * **Run multiple times the cell below and note the array values will be random and the same**"
      ]
    },
    {
      "cell_type": "code",
      "metadata": {
        "id": "jbGq7X4Cafaq"
      },
      "source": [
        "np.random.seed(seed=123)\n",
        "arr = np.random.randint(low=10,high=50,size=5)\n",
        "arr\n",
        "\n",
        "#### this content goes to the video ####"
      ],
      "execution_count": null,
      "outputs": []
    },
    {
      "cell_type": "markdown",
      "metadata": {
        "id": "fDasELvIafar"
      },
      "source": [
        "---"
      ]
    },
    {
      "cell_type": "markdown",
      "metadata": {
        "id": "RvwNZw9Gafar"
      },
      "source": [
        "## Array Methods"
      ]
    },
    {
      "cell_type": "markdown",
      "metadata": {
        "id": "pdKM6LAfafar"
      },
      "source": [
        "* You can reshape the array without changing the data within it using  **.reshape()** method.\n",
        "  * the example below shows a 1-d array, with 40 elements. "
      ]
    },
    {
      "cell_type": "code",
      "metadata": {
        "id": "32CnhlOGafar"
      },
      "source": [
        "np.random.seed(seed=0)\n",
        "arr = np.random.randint(low=1,high=150,size=30)\n",
        "arr\n",
        "\n",
        "#### this content goes to the video ####"
      ],
      "execution_count": null,
      "outputs": []
    },
    {
      "cell_type": "markdown",
      "metadata": {
        "id": "wZ1lMuagafar"
      },
      "source": [
        "* You can reshape as 3 rows x 10 columns, transforming into a 2-d array\n",
        "  * the argument is the shape you are interested"
      ]
    },
    {
      "cell_type": "code",
      "metadata": {
        "id": "jm8eTe-zafas"
      },
      "source": [
        "arr_reshaped = arr.reshape(3,10)  # 2-d array, 3 x 10\n",
        "arr_reshaped\n",
        "\n",
        "#### this content goes to the video ####"
      ],
      "execution_count": null,
      "outputs": []
    },
    {
      "cell_type": "markdown",
      "metadata": {
        "id": "xc_4e-os3-OH"
      },
      "source": [
        "* You can then reshape to a 3-d array: 3 x 5 x 2"
      ]
    },
    {
      "cell_type": "code",
      "metadata": {
        "id": "MQP8Ac_V3-cJ"
      },
      "source": [
        "arr_reshaped = arr.reshape(3,5,2)  # 3-d array, 3x5x2\n",
        "arr_reshaped\n",
        "\n",
        "#### this content goes to the video ####"
      ],
      "execution_count": null,
      "outputs": []
    },
    {
      "cell_type": "markdown",
      "metadata": {
        "id": "KJOc_UNj2MUu"
      },
      "source": [
        "* Now you know you can reshape an array into a different dimension, the parameters are integers (1-d) or tuple of integers (2-d or more) and the numbers.\n",
        "  * The values are the dimensions\n",
        "* However, you may want to reshape to a unknown dimension.\n",
        "  * For that you just place -1.\n",
        "\n",
        "* Imagine if for the following 1-d array  "
      ]
    },
    {
      "cell_type": "code",
      "metadata": {
        "id": "NuXCkeUlpmDA"
      },
      "source": [
        "arr = np.arange(start=1,stop=9,step=1)\n",
        "print(f\"array: \\n {arr} \\n\\n\"\n",
        "      f\"array shape: {arr.shape}\")"
      ],
      "execution_count": null,
      "outputs": []
    },
    {
      "cell_type": "markdown",
      "metadata": {
        "id": "wlXXWM-5pwWm"
      },
      "source": [
        "* Now you want to reshape to a 2-d, with 1 column. You do not need to specify the rows."
      ]
    },
    {
      "cell_type": "code",
      "metadata": {
        "id": "b9K_rbhOafau"
      },
      "source": [
        "arr_reshape = arr.reshape(-1,1)  \n",
        "# it is a 2-d array because you passed a tuple \n",
        "# the -1 means unknown, so you dont know how many rows this 2-d array will have\n",
        "# the 1 means you want a single column\n",
        "\n",
        "print(f\"array: \\n {arr_reshape} \\n\\n\"\n",
        "      f\"array shape: {arr_reshape.shape}\")"
      ],
      "execution_count": null,
      "outputs": []
    },
    {
      "cell_type": "markdown",
      "metadata": {
        "id": "dz9p1buIrK1V"
      },
      "source": [
        "* Now you want to reshape to a 2-d, with 2 columns. And you are not in a position to inform the rows."
      ]
    },
    {
      "cell_type": "code",
      "metadata": {
        "id": "yfJent2W07aw"
      },
      "source": [
        "arr_reshape = arr.reshape(-1,2)  \n",
        "# it is a 2-d array because you passed a tuple \n",
        "# the -1 means unknown, so you dont know how many rows this 2-d array will have\n",
        "# the 2 means you want 2 columns\n",
        "\n",
        "print(f\"array: \\n {arr_reshape} \\n\\n\"\n",
        "      f\"array shape: {arr_reshape.shape}\")"
      ],
      "execution_count": null,
      "outputs": []
    },
    {
      "cell_type": "markdown",
      "metadata": {
        "id": "iK7Ad9I1r6eU"
      },
      "source": [
        "* The previous example worked because the original array had 8 elements and that fits into a 4 x 2. However, if you tried to reshape with 3 columns, that wouldnt work"
      ]
    },
    {
      "cell_type": "code",
      "metadata": {
        "id": "WzEFtibrsUSV"
      },
      "source": [
        "arr_reshape = arr.reshape(-1,3)  \n",
        "# arr has 8 elements, it is not possible to reshape in 3 columns"
      ],
      "execution_count": null,
      "outputs": []
    },
    {
      "cell_type": "markdown",
      "metadata": {
        "id": "h85QNLDXrcLL"
      },
      "source": [
        "* Now reshape methods in arrays may seem not useful, but these are used when training models based on images. You will encounter this aspect in the Machine Learning lessons\n"
      ]
    },
    {
      "cell_type": "markdown",
      "metadata": {
        "id": "NA5OPKYTrVR6"
      },
      "source": [
        "---"
      ]
    },
    {
      "cell_type": "markdown",
      "metadata": {
        "id": "2Wwu6a7Cafaw"
      },
      "source": [
        "* There can be a situation where you have a multidimensional array and want to transform to a 1-d array. You can use **flatten()** for it\n",
        "* Consider a 2-d array"
      ]
    },
    {
      "cell_type": "code",
      "metadata": {
        "id": "xOQEN_Glafaw"
      },
      "source": [
        "np.random.seed(seed=0)\n",
        "arr = np.random.randint(low=1,high=150,size=(2,5))\n",
        "arr"
      ],
      "execution_count": null,
      "outputs": []
    },
    {
      "cell_type": "markdown",
      "metadata": {
        "id": "zj-NAucHvbub"
      },
      "source": [
        "* You can flatten, you will noticed it became a 1-d array"
      ]
    },
    {
      "cell_type": "code",
      "metadata": {
        "id": "vFzq56iwafax"
      },
      "source": [
        "arr_flatten = arr.flatten()\n",
        "arr_flatten"
      ],
      "execution_count": null,
      "outputs": []
    },
    {
      "cell_type": "markdown",
      "metadata": {
        "id": "tRY8e5mGvyCy"
      },
      "source": [
        "* Alternatively, you can get the same effect using **.reshape()**, with argument as -1"
      ]
    },
    {
      "cell_type": "code",
      "metadata": {
        "id": "oHjIjplPafay"
      },
      "source": [
        "arr_reshape = arr.reshape(-1)\n",
        "arr_reshape"
      ],
      "execution_count": null,
      "outputs": []
    },
    {
      "cell_type": "markdown",
      "metadata": {
        "id": "Ul95Mqz-afay"
      },
      "source": [
        "---"
      ]
    },
    {
      "cell_type": "markdown",
      "metadata": {
        "id": "PLAkm3G2afaz"
      },
      "source": [
        "* Min and Max values can be accessed using .min() and .max() methods."
      ]
    },
    {
      "cell_type": "markdown",
      "metadata": {
        "id": "fhRfv52ttFtg"
      },
      "source": [
        "* Let's recap the what is the array \"arr\" content"
      ]
    },
    {
      "cell_type": "code",
      "metadata": {
        "id": "NVzcrcEjtLdH"
      },
      "source": [
        "arr #### this content goes to the video ####"
      ],
      "execution_count": null,
      "outputs": []
    },
    {
      "cell_type": "code",
      "metadata": {
        "id": "6MTrapqiafaz"
      },
      "source": [
        "arr.max() #### this content goes to the video ####"
      ],
      "execution_count": null,
      "outputs": []
    },
    {
      "cell_type": "code",
      "metadata": {
        "id": "ryrhclZ_afa0"
      },
      "source": [
        "arr.min() #### this content goes to the video ####"
      ],
      "execution_count": null,
      "outputs": []
    },
    {
      "cell_type": "markdown",
      "metadata": {
        "id": "Ae0VwXF5afa0"
      },
      "source": [
        "* You can determine the index position of the minimum or maximum value in the array along a particular axis using the argmin() and argmax() methods"
      ]
    },
    {
      "cell_type": "code",
      "metadata": {
        "id": "Nad9p99Zafa0"
      },
      "source": [
        "arr.argmax() #### this content goes to the video ####"
      ],
      "execution_count": null,
      "outputs": []
    },
    {
      "cell_type": "code",
      "metadata": {
        "id": "y0PjjrVCafa1"
      },
      "source": [
        "arr.argmin() #### this content goes to the video ####"
      ],
      "execution_count": null,
      "outputs": []
    },
    {
      "cell_type": "markdown",
      "metadata": {
        "id": "NKVe_6Nlafa1"
      },
      "source": [
        "---"
      ]
    },
    {
      "cell_type": "markdown",
      "metadata": {
        "id": "klg2VbL5afa1"
      },
      "source": [
        "## Array Attributes"
      ]
    },
    {
      "cell_type": "markdown",
      "metadata": {
        "id": "1Yj1rNmUafa1"
      },
      "source": [
        "*  You can check the shape and type of a NumPy array using, respectively, the attributes **.shape** and **.dtype**\n",
        "* Consider a 2-d array (5x2) made using arange()"
      ]
    },
    {
      "cell_type": "code",
      "metadata": {
        "id": "AbAy9vlUafa1"
      },
      "source": [
        "arr = np.arange(start=1,stop=11,step=1).reshape(5,2)\n",
        "\n",
        "#### this content goes to the video ####"
      ],
      "execution_count": null,
      "outputs": []
    },
    {
      "cell_type": "markdown",
      "metadata": {
        "id": "4CSHqR95wMrK"
      },
      "source": [
        "* You can check its shape and dtype"
      ]
    },
    {
      "cell_type": "code",
      "metadata": {
        "id": "Qsx4CmUTwMz3"
      },
      "source": [
        "print(\n",
        "    f\"* Array:\\n {arr} \\n\\n\"\n",
        "    f\"* Array shape: \\n {arr.shape} \\n\\n\"\n",
        "    f\"* Array type: \\n {arr.dtype}\"\n",
        "    )\n",
        "\n",
        "#### this content goes to the video ####"
      ],
      "execution_count": null,
      "outputs": []
    },
    {
      "cell_type": "markdown",
      "metadata": {
        "id": "fj3fneHeafa2"
      },
      "source": [
        "---"
      ]
    },
    {
      "cell_type": "markdown",
      "metadata": {
        "id": "A32zuu2Mafa2"
      },
      "source": [
        "## Challenges"
      ]
    },
    {
      "cell_type": "markdown",
      "metadata": {
        "id": "Sn1iK7P8dq9I"
      },
      "source": [
        "<img src=\"https://pbs.twimg.com/profile_images/751014307790462977/iHBKhhSe_400x400.jpg\" width=\"15%\"  />\n",
        "\n"
      ]
    },
    {
      "cell_type": "markdown",
      "metadata": {
        "id": "uhVBi57NH7Jr"
      },
      "source": [
        "* Import packages needed for the challenges"
      ]
    },
    {
      "cell_type": "code",
      "metadata": {
        "id": "PIzVQzZMH3Ha"
      },
      "source": [
        "import numpy as np"
      ],
      "execution_count": null,
      "outputs": []
    },
    {
      "cell_type": "markdown",
      "metadata": {
        "id": "1YXIfJ37HfMa"
      },
      "source": [
        "### Challenge 01"
      ]
    },
    {
      "cell_type": "markdown",
      "metadata": {
        "id": "NxQFmwFaHfMe"
      },
      "source": [
        "* Create an array called **arr**. I should be a evenly spaced array of numbers, from -37 to -22; both numbers are inclusive. Your step size has to be 1."
      ]
    },
    {
      "cell_type": "code",
      "metadata": {
        "id": "pggUZgQSHfMe"
      },
      "source": [
        "# Write in this cell your solution\n",
        "\n",
        "\n"
      ],
      "execution_count": null,
      "outputs": []
    },
    {
      "cell_type": "code",
      "metadata": {
        "id": "KcHbX_AyHfMf"
      },
      "source": [
        "# For development/internal use - here goes the suggested challenge solution\n",
        "arr = np.arange(start=-37,stop=-21,step=1)\n",
        "arr"
      ],
      "execution_count": null,
      "outputs": []
    },
    {
      "cell_type": "markdown",
      "metadata": {
        "id": "mFxF7OEjHfMg"
      },
      "source": [
        "---"
      ]
    },
    {
      "cell_type": "markdown",
      "metadata": {
        "id": "-hjNgE6Rafa3"
      },
      "source": [
        "### Challenge 02"
      ]
    },
    {
      "cell_type": "markdown",
      "metadata": {
        "id": "MUa06CByafa3"
      },
      "source": [
        "* Define the numpy seed=1.\n",
        "* In a variable called **arr**, Create a 2-d array, 4 x 4, with random integers, where the lowest value is 1 and the max 100 (inclusive).\n",
        "* In a print() statement, display the array"
      ]
    },
    {
      "cell_type": "code",
      "metadata": {
        "id": "VFh7V4mfwV_c"
      },
      "source": [
        "# Write in this cell your solution\n",
        "\n",
        "\n"
      ],
      "execution_count": null,
      "outputs": []
    },
    {
      "cell_type": "code",
      "metadata": {
        "id": "cbrb-UGqafa4"
      },
      "source": [
        "# For development/internal use - here goes the suggested challenge solution\n",
        "np.random.seed(seed=1)\n",
        "arr = np.random.randint(low=1,high=101,size=(4,4))\n",
        "print(arr)"
      ],
      "execution_count": null,
      "outputs": []
    },
    {
      "cell_type": "markdown",
      "metadata": {
        "id": "NPbKatZuafa4"
      },
      "source": [
        "### Challenge 03"
      ]
    },
    {
      "cell_type": "markdown",
      "metadata": {
        "id": "uUGFvksNIJAh"
      },
      "source": [
        "* Consider the array below:"
      ]
    },
    {
      "cell_type": "code",
      "metadata": {
        "id": "NOaCtJA8INkt"
      },
      "source": [
        "arr = np.array([[59,26,51,15], [24,93,28,100], [30,15,29,50],[14,18,82,94]])\n",
        "arr"
      ],
      "execution_count": null,
      "outputs": []
    },
    {
      "cell_type": "markdown",
      "metadata": {
        "id": "fjWi4WIFafa4"
      },
      "source": [
        "* Using the array above (arr), your NumPy knowledge, and your Python knowledge with print statment function and displaying variables using f-string, print the following statement:\n",
        "  * **\"The max value for the array is 100 and its index location is 7. The min value for the array is 14 and its index location is 12.\"**"
      ]
    },
    {
      "cell_type": "code",
      "metadata": {
        "id": "GjayFYLqwX76"
      },
      "source": [
        "# Write in this cell your solution\n",
        "\n",
        "\n"
      ],
      "execution_count": null,
      "outputs": []
    },
    {
      "cell_type": "code",
      "metadata": {
        "id": "69l1PQUXafa5"
      },
      "source": [
        "# For development/internal use - here goes the suggested challenge solution\n",
        "print(\n",
        "    f\"The max value for the array is {arr.max()} and its index location is {arr.argmax()}. \"\n",
        "    f\"The min value for the array is {arr.min()} and its index location is {arr.argmin()}.\"\n",
        "    )"
      ],
      "execution_count": null,
      "outputs": []
    },
    {
      "cell_type": "markdown",
      "metadata": {
        "id": "P58gDOZZafa5"
      },
      "source": [
        "---"
      ]
    },
    {
      "cell_type": "markdown",
      "metadata": {
        "id": "rn519h42wg_-"
      },
      "source": [
        "## Well done!\n",
        "\n"
      ]
    },
    {
      "cell_type": "markdown",
      "metadata": {
        "id": "JqcNUuSteaDm"
      },
      "source": [
        "* Save this notebook. \n",
        "  * Go to: File → Save a copy in GitHub\n",
        "  * In the **Repository** menu, select your username followed by \"data-practitioner-notebook-lessons\"\n",
        "  * The **branch** should be main.\n",
        "  * You may write a custom message at \"Commit Message\", or leave as it is.\n",
        "  * You should **tick** \"Include a link to Colaboratory\", so you can have a shortcut to open your notebook at Colab when previewing the notebook \n",
        "* Once you **receive a confirmation it was pushed to the Repo**, close this notebook and proceed to the next unit lesson!"
      ]
    },
    {
      "cell_type": "markdown",
      "metadata": {
        "id": "VXE_sZuHw9R6"
      },
      "source": [
        "<img src=\"https://www.learningpeople.com/static/1e2d1b1046220ce9fa0222b5790b86bc/b3853/code-institute.png\" width=\"20%\" height=\"20%\" />"
      ]
    },
    {
      "cell_type": "markdown",
      "metadata": {
        "id": "zJvmit2KPXMx"
      },
      "source": [
        "# NumPy - Unit 02"
      ]
    },
    {
      "cell_type": "markdown",
      "metadata": {
        "id": "R3EkgoTwaZY_"
      },
      "source": [
        "## Unit Objectives\n",
        "* Perform Array **Indexing and Selecting**\n",
        "\n",
        "\n",
        "<img src=\"https://raw.githubusercontent.com/numpy/numpy/181f273a59744d58f90f45d953a3285484c72cba/branding/logo/primary/numpylogo.svg\" width=\"25%\" height=\"25%\" />"
      ]
    },
    {
      "cell_type": "markdown",
      "metadata": {
        "id": "kl7s9KGWNnje"
      },
      "source": [
        "---"
      ]
    },
    {
      "cell_type": "markdown",
      "metadata": {
        "id": "RhaANRQHJs_A"
      },
      "source": [
        "## Import Package"
      ]
    },
    {
      "cell_type": "markdown",
      "metadata": {
        "id": "z0e7IChDJs_H"
      },
      "source": [
        "* Colab offers a session with a set of packages already installed. To check which packages are installed type in a code cell **!pip freeze** and run it. In case NumPy is not installed, you may type and run in a code cell **!pip install numpy**\n",
        "* NumPy should be already incluced in this set of packages. You will just need to import it."
      ]
    },
    {
      "cell_type": "code",
      "metadata": {
        "id": "-6mTWe4eJs_I"
      },
      "source": [
        "import numpy as np"
      ],
      "execution_count": null,
      "outputs": []
    },
    {
      "cell_type": "markdown",
      "metadata": {
        "id": "8hY8DRXvNoU5"
      },
      "source": [
        "---"
      ]
    },
    {
      "cell_type": "markdown",
      "metadata": {
        "id": "GDssTE1OPuRi"
      },
      "source": [
        "## Indexing Arrays"
      ]
    },
    {
      "cell_type": "markdown",
      "metadata": {
        "id": "nAslIunVgte8"
      },
      "source": [
        "### 1-d arrays"
      ]
    },
    {
      "cell_type": "markdown",
      "metadata": {
        "id": "2Koo82msg0qz"
      },
      "source": [
        "* Let's create a simple 1-d array"
      ]
    },
    {
      "cell_type": "code",
      "metadata": {
        "id": "Ct4UxKAkUd4v"
      },
      "source": [
        "arr = np.arange(start=0,stop=26,step=2)\n",
        "arr \n",
        "\n",
        "#### this content goes to the video ####"
      ],
      "execution_count": null,
      "outputs": []
    },
    {
      "cell_type": "markdown",
      "metadata": {
        "id": "8pF-LyJhhOe6"
      },
      "source": [
        "* Retrieve a value in a index position\n",
        "* Remember that the first position in the array is the index 0"
      ]
    },
    {
      "cell_type": "code",
      "metadata": {
        "id": "ADuv_WcoNbvq"
      },
      "source": [
        "arr[8]\n",
        "\n",
        "#### this content goes to the video ####"
      ],
      "execution_count": null,
      "outputs": []
    },
    {
      "cell_type": "code",
      "metadata": {
        "id": "75VagDIVhl6W"
      },
      "source": [
        "arr[0]\n",
        "\n",
        "#### this content goes to the video ####"
      ],
      "execution_count": null,
      "outputs": []
    },
    {
      "cell_type": "markdown",
      "metadata": {
        "id": "G5YB-W_dhpBB"
      },
      "source": [
        "* Retrieve data in a range\n",
        "    * In the example below, it starts in the index position 1 (inclusive) and go up to index position 5 (exclusive)"
      ]
    },
    {
      "cell_type": "code",
      "metadata": {
        "id": "5drf2T8OQPrZ"
      },
      "source": [
        "arr[1:5]\n",
        "\n",
        "#### this content goes to the video ####"
      ],
      "execution_count": null,
      "outputs": []
    },
    {
      "cell_type": "markdown",
      "metadata": {
        "id": "PYjj-P0AiLIf"
      },
      "source": [
        "* Get values in a range, it starts at index 0 and go until index 5 (exclusive) \n",
        "* Not assigning the position before the \":\" indicates to start from 0."
      ]
    },
    {
      "cell_type": "code",
      "metadata": {
        "id": "N6P8T3teQRne"
      },
      "source": [
        "arr[:5]"
      ],
      "execution_count": null,
      "outputs": []
    },
    {
      "cell_type": "markdown",
      "metadata": {
        "id": "WDt9XwEoikxY"
      },
      "source": [
        "* Similarly when there is no index mention after the \":\", it considers until the end\n",
        "* In this case, it indexes from positon 10 until the end "
      ]
    },
    {
      "cell_type": "code",
      "metadata": {
        "id": "bxz3kY9zQV7m"
      },
      "source": [
        "arr[10:]"
      ],
      "execution_count": null,
      "outputs": []
    },
    {
      "cell_type": "markdown",
      "metadata": {
        "id": "lrVdptyYNo4s"
      },
      "source": [
        "---"
      ]
    },
    {
      "cell_type": "markdown",
      "metadata": {
        "id": "zI_mCs-zSfxg"
      },
      "source": [
        "### 2-d arrays"
      ]
    },
    {
      "cell_type": "markdown",
      "metadata": {
        "id": "qY4n103pjdAk"
      },
      "source": [
        "* Let's consider the 2-d array"
      ]
    },
    {
      "cell_type": "code",
      "metadata": {
        "id": "7lucwWq-SYlJ"
      },
      "source": [
        "np.random.seed(seed=101)\n",
        "arr = np.random.randint(low=10,high=50,size=(3,5))\n",
        "arr \n",
        "\n",
        "#### this content goes to the video ####"
      ],
      "execution_count": null,
      "outputs": []
    },
    {
      "cell_type": "markdown",
      "metadata": {
        "id": "9JtDvT9pjs-f"
      },
      "source": [
        "* Retrieving single element\n",
        "    * In this case, the row is at index position 1, and column is at index position 0"
      ]
    },
    {
      "cell_type": "code",
      "metadata": {
        "id": "7cKAxyItS2pQ"
      },
      "source": [
        "arr[1,0]"
      ],
      "execution_count": null,
      "outputs": []
    },
    {
      "cell_type": "markdown",
      "metadata": {
        "id": "tg6gQQ5ukMnr"
      },
      "source": [
        "* Indexing a full row\n",
        "  * In this case, the row at index 1"
      ]
    },
    {
      "cell_type": "code",
      "metadata": {
        "id": "kzpE9Y5BSvL-"
      },
      "source": [
        "arr[1,:]\n",
        "\n",
        "#### this content goes to the video ####"
      ],
      "execution_count": null,
      "outputs": []
    },
    {
      "cell_type": "markdown",
      "metadata": {
        "id": "UL7y3HRYkV38"
      },
      "source": [
        "* Indexing a full column\n",
        "  * In this case, the columns at index 3"
      ]
    },
    {
      "cell_type": "code",
      "metadata": {
        "id": "Alj8ap_jkdIi"
      },
      "source": [
        "arr[:,3]\n",
        "\n",
        "#### this content goes to the video ####"
      ],
      "execution_count": null,
      "outputs": []
    },
    {
      "cell_type": "markdown",
      "metadata": {
        "id": "0XjYOaKIkiuq"
      },
      "source": [
        "  * Slice Rows and Columns\n",
        "    * In this case, rows from zero to 2 (exclusive) and columns from 1 until the end"
      ]
    },
    {
      "cell_type": "code",
      "metadata": {
        "id": "GqGLZOtrk6Cn"
      },
      "source": [
        "arr"
      ],
      "execution_count": null,
      "outputs": []
    },
    {
      "cell_type": "code",
      "metadata": {
        "id": "-4Y8tTnIS7Ij"
      },
      "source": [
        "arr[:2,1:]"
      ],
      "execution_count": null,
      "outputs": []
    },
    {
      "cell_type": "markdown",
      "metadata": {
        "id": "mSKi9RzBomIQ"
      },
      "source": [
        "### 3-d array"
      ]
    },
    {
      "cell_type": "markdown",
      "metadata": {
        "id": "2BNk1xbHpC5F"
      },
      "source": [
        "* Let's create a 3-d array\n",
        "  * In this example, imagine if there are 3 arrays  of 3x4, all \"side by side\". This is an example on how to \"visualize\" a 3-d array: [link](https://files.realpython.com/media/arr3d.7442cd4e11c6.jpg)"
      ]
    },
    {
      "cell_type": "code",
      "metadata": {
        "id": "lL-TdWlhXSAN"
      },
      "source": [
        "np.random.seed(seed=101)\n",
        "arr = np.random.randint(low=10,high=50,size=(3,3,4))\n",
        "arr\n",
        "\n",
        "#### this content goes to the video ####"
      ],
      "execution_count": null,
      "outputs": []
    },
    {
      "cell_type": "markdown",
      "metadata": {
        "id": "Mjon1FLupTgQ"
      },
      "source": [
        "* Retrieving single element\n",
        "  * In this case, it is the array on position 1 (second array), the row is at index position 0, and column is at index position 0"
      ]
    },
    {
      "cell_type": "code",
      "metadata": {
        "id": "t8iqSyE1pPu-"
      },
      "source": [
        "arr[1,0,0]"
      ],
      "execution_count": null,
      "outputs": []
    },
    {
      "cell_type": "markdown",
      "metadata": {
        "id": "nprXSnYzpuSI"
      },
      "source": [
        "* Retreive a row\n",
        "  * In this case, array on position 2 (last array), the row is at index position 1, all columns"
      ]
    },
    {
      "cell_type": "code",
      "metadata": {
        "id": "fIwURNfupP7O"
      },
      "source": [
        "arr[2,1,:]\n",
        "\n",
        "#### this content goes to the video ####"
      ],
      "execution_count": null,
      "outputs": []
    },
    {
      "cell_type": "markdown",
      "metadata": {
        "id": "Gp0ZKRbBpxMi"
      },
      "source": [
        "* Retreive a column\n",
        "  * In this case \n",
        "  * Note the output is a 1-d array. The elements are not displayed vertically, as one can imagine a retrieve for a column"
      ]
    },
    {
      "cell_type": "code",
      "metadata": {
        "id": "Zvb8cB7epQKj"
      },
      "source": [
        "arr[0,:,2]"
      ],
      "execution_count": null,
      "outputs": []
    },
    {
      "cell_type": "markdown",
      "metadata": {
        "id": "pTs25z9upzUY"
      },
      "source": [
        "* Retreive a range. The concept is very similar to a 2-d array\n",
        "  * In this case, pick the array at position 0 (first array), rows from index 0 to index 2 (exclusive) and columns from index 0 to index 3 (exclusive)\n",
        "  * The output is 1 array, with 2 dimensions"
      ]
    },
    {
      "cell_type": "code",
      "metadata": {
        "id": "0MaDHJ4mpwOB"
      },
      "source": [
        "arr[0,:2,:3]\n",
        "\n",
        "#### this content goes to the video ####"
      ],
      "execution_count": null,
      "outputs": []
    },
    {
      "cell_type": "markdown",
      "metadata": {
        "id": "f9tgLE8YsF4R"
      },
      "source": [
        "* You may also retreive more than one array from your 3-d array\n",
        "  * In this example, 2 arrays, at position 0 and 1 (first and second array)"
      ]
    },
    {
      "cell_type": "code",
      "metadata": {
        "id": "RQSNFfMKpwQj"
      },
      "source": [
        "arr[0:2,:2,:3]"
      ],
      "execution_count": null,
      "outputs": []
    },
    {
      "cell_type": "markdown",
      "metadata": {
        "id": "JvDl5E_vp1wu"
      },
      "source": [
        "* In case you want to array as 1-d, you can use flatten()\n",
        "  * In this example, you sliced the first array (index position 0), all rows and first 2 columns. The output would be a 2-d array. Once you add .flatten(), the output is a 1-d array"
      ]
    },
    {
      "cell_type": "code",
      "metadata": {
        "id": "j06DWmzGpwUh"
      },
      "source": [
        "arr[0,:,:2]"
      ],
      "execution_count": null,
      "outputs": []
    },
    {
      "cell_type": "code",
      "metadata": {
        "id": "pTuU3a6es2Qu"
      },
      "source": [
        "arr[0,:,:2].flatten()"
      ],
      "execution_count": null,
      "outputs": []
    },
    {
      "cell_type": "markdown",
      "metadata": {
        "id": "KMM4zbmjpQfz"
      },
      "source": [
        "### Negative Slicing"
      ]
    },
    {
      "cell_type": "markdown",
      "metadata": {
        "id": "F9SD0NnQs7IB"
      },
      "source": [
        "* As an alternative for slicing, negative slicing retrieves elements starting counting, from the end, rather than the beginning.\n",
        "* Consider a 2-d array"
      ]
    },
    {
      "cell_type": "code",
      "metadata": {
        "id": "m_5TRo2Ms7UE"
      },
      "source": [
        "np.random.seed(seed=101)\n",
        "arr = np.random.randint(low=10,high=50,size=(3,5))\n",
        "arr\n",
        "\n",
        "#### this content goes to the video ####"
      ],
      "execution_count": null,
      "outputs": []
    },
    {
      "cell_type": "markdown",
      "metadata": {
        "id": "FRRMi9uMs7gq"
      },
      "source": [
        "* Retreive all rows and the last 2 columns\n",
        "  * In this example, \"-2:\" means, counting from the end and going left, move 2 index position (inclusive). It goes until the end since there is no number after the \":\""
      ]
    },
    {
      "cell_type": "code",
      "metadata": {
        "id": "hqW8AH3Fs7rQ"
      },
      "source": [
        "arr[:,-2:]\n",
        "\n",
        "#### this content goes to the video ####"
      ],
      "execution_count": null,
      "outputs": []
    },
    {
      "cell_type": "markdown",
      "metadata": {
        "id": "OdPEbOAOucZd"
      },
      "source": [
        "* Retreive now all rows and 2nd and 3rd columns using negative slicing\n",
        "  * In this case, \"-4\" means you counted 4 from the end. Then you start slicing. The \"-2\" means you stopped 2 positions before the end"
      ]
    },
    {
      "cell_type": "code",
      "metadata": {
        "id": "c8Xzw73WuwwF"
      },
      "source": [
        "arr[:,-4:-2]"
      ],
      "execution_count": null,
      "outputs": []
    },
    {
      "cell_type": "markdown",
      "metadata": {
        "id": "hIVXlAxyNqQx"
      },
      "source": [
        "---"
      ]
    },
    {
      "cell_type": "markdown",
      "metadata": {
        "id": "v2yL5IgqTgZb"
      },
      "source": [
        "## Selecting an array"
      ]
    },
    {
      "cell_type": "markdown",
      "metadata": {
        "id": "_bOlj_2OyMkf"
      },
      "source": [
        "* You can select data in a array. Consider a 2-d array"
      ]
    },
    {
      "cell_type": "code",
      "metadata": {
        "id": "OeFP3E10TD1M"
      },
      "source": [
        "np.random.seed(seed=10)\n",
        "arr = np.random.randint(low=1,high=25, size=(3,5))\n",
        "arr\n",
        "\n",
        "#### this content goes to the video ####"
      ],
      "execution_count": null,
      "outputs": []
    },
    {
      "cell_type": "markdown",
      "metadata": {
        "id": "-Jvjp0ywyVKC"
      },
      "source": [
        "* Say you are interested to subset numbers greater than 4.\n",
        "* You can create a boolean arrays with of your selection"
      ]
    },
    {
      "cell_type": "code",
      "metadata": {
        "id": "qOipBpaMT4k1"
      },
      "source": [
        "arr>4\n",
        "\n",
        "#### this content goes to the video ####"
      ],
      "execution_count": null,
      "outputs": []
    },
    {
      "cell_type": "markdown",
      "metadata": {
        "id": "uZ6uB8uyyldB"
      },
      "source": [
        "* You can parse this boolean array in your original array for selecting\n",
        "* The output is a 1-d array"
      ]
    },
    {
      "cell_type": "code",
      "metadata": {
        "id": "vdCDpu3GytW6"
      },
      "source": [
        "arr[arr>4]\n",
        "\n",
        "#### this content goes to the video ####"
      ],
      "execution_count": null,
      "outputs": []
    },
    {
      "cell_type": "markdown",
      "metadata": {
        "id": "WoVsVW_5y01g"
      },
      "source": [
        "* You can add more conditions to your selection. Imagine if you want values greater than 4 and less than 17\n",
        "* The output is a 1-d array"
      ]
    },
    {
      "cell_type": "code",
      "metadata": {
        "id": "5GjAczWKUk7T"
      },
      "source": [
        "arr[(arr>4) & (arr < 17)]\n",
        "\n",
        "#### this content goes to the video ####"
      ],
      "execution_count": null,
      "outputs": []
    },
    {
      "cell_type": "markdown",
      "metadata": {
        "id": "LxPJ03ufNq3a"
      },
      "source": [
        "---"
      ]
    },
    {
      "cell_type": "markdown",
      "metadata": {
        "id": "_6XQ_xXVnUb9"
      },
      "source": [
        "## Challenges"
      ]
    },
    {
      "cell_type": "markdown",
      "metadata": {
        "id": "BwKJ5SFbnUcJ"
      },
      "source": [
        "<img src=\"https://pbs.twimg.com/profile_images/751014307790462977/iHBKhhSe_400x400.jpg\" width=\"15%\"  />\n",
        "\n"
      ]
    },
    {
      "cell_type": "markdown",
      "metadata": {
        "id": "grh9WjaxnUcO"
      },
      "source": [
        "### Challenge 01"
      ]
    },
    {
      "cell_type": "markdown",
      "metadata": {
        "id": "2CI4ETwpnUcP"
      },
      "source": [
        "* xxxx"
      ]
    },
    {
      "cell_type": "code",
      "metadata": {
        "id": "RisOLsf0nUcR"
      },
      "source": [
        "# Write in this cell your solution\n",
        "\n",
        "\n"
      ],
      "execution_count": null,
      "outputs": []
    },
    {
      "cell_type": "code",
      "metadata": {
        "id": "SXCskY3xnUcS"
      },
      "source": [
        "# For development/internal use - here goes the suggested challenge solution\n",
        "\n"
      ],
      "execution_count": null,
      "outputs": []
    },
    {
      "cell_type": "markdown",
      "metadata": {
        "id": "iVcsqKVHnUcT"
      },
      "source": [
        "### Challenge 02"
      ]
    },
    {
      "cell_type": "markdown",
      "metadata": {
        "id": "PzveVdzbnUcV"
      },
      "source": [
        "* xxxxx"
      ]
    },
    {
      "cell_type": "code",
      "metadata": {
        "id": "RThB3dhrnUcW"
      },
      "source": [
        "# Write in this cell your solution\n",
        "\n",
        "\n"
      ],
      "execution_count": null,
      "outputs": []
    },
    {
      "cell_type": "code",
      "metadata": {
        "id": "sISsZQSjnUcX"
      },
      "source": [
        "# For development/internal use - here goes the suggested challenge solution\n",
        "\n"
      ],
      "execution_count": null,
      "outputs": []
    },
    {
      "cell_type": "markdown",
      "metadata": {
        "id": "kJIwdFjVnUcY"
      },
      "source": [
        "---"
      ]
    },
    {
      "cell_type": "markdown",
      "metadata": {
        "id": "paFuuj0PLsl1"
      },
      "source": [
        "### Challenge 03"
      ]
    },
    {
      "cell_type": "markdown",
      "metadata": {
        "id": "clIf6tsLLsmK"
      },
      "source": [
        "* xxxxx"
      ]
    },
    {
      "cell_type": "code",
      "metadata": {
        "id": "GuUL9UaNLsmO"
      },
      "source": [
        "# Write in this cell your solution\n",
        "\n",
        "\n"
      ],
      "execution_count": null,
      "outputs": []
    },
    {
      "cell_type": "code",
      "metadata": {
        "id": "8ql6VlaKLsmP"
      },
      "source": [
        "# For development/internal use - here goes the suggested challenge solution\n",
        "\n"
      ],
      "execution_count": null,
      "outputs": []
    },
    {
      "cell_type": "markdown",
      "metadata": {
        "id": "HKUowEQqLsmQ"
      },
      "source": [
        "---"
      ]
    },
    {
      "cell_type": "markdown",
      "metadata": {
        "id": "EOCSoQpGumSY"
      },
      "source": [
        "## Well done!\n",
        "\n"
      ]
    },
    {
      "cell_type": "markdown",
      "metadata": {
        "id": "1xBqGNDTz3dM"
      },
      "source": [
        "* Save this notebook. \n",
        "  * Go to: File → Save a copy in GitHub\n",
        "  * In the **Repository** menu, select your username followed by \"data-practitioner-notebook-lessons\"\n",
        "  * The **branch** should be main.\n",
        "  * You may write a custom message at \"Commit Message\", or leave as it is.\n",
        "  * You should **tick** \"Include a link to Colaboratory\", so you can have a shortcut to open your notebook at Colab when previewing the notebook \n",
        "* Once you **receive a confirmation it was pushed to the Repo**, close this notebook and proceed to the next unit lesson!"
      ]
    },
    {
      "cell_type": "markdown",
      "metadata": {
        "id": "PdMRJHg6umSZ"
      },
      "source": [
        "<img src=\"https://www.learningpeople.com/static/1e2d1b1046220ce9fa0222b5790b86bc/b3853/code-institute.png\" width=\"20%\" height=\"20%\" />"
      ]
    },
    {
      "cell_type": "markdown",
      "metadata": {
        "id": "fAIRoUwnupa8"
      },
      "source": [
        "---"
      ]
    },
    {
      "cell_type": "markdown",
      "metadata": {
        "id": "YMjOPV8eUyy8"
      },
      "source": [
        "# NumPy - Unit 03"
      ]
    },
    {
      "cell_type": "markdown",
      "metadata": {
        "id": "CBWv2R0JMaNn"
      },
      "source": [
        "## Unit Objectives\n",
        "* Perform **array operations**\n",
        "* Use NumPy **universal functions**\n",
        "* **Extra**: Images and NumPy\n",
        "\n",
        "<img src=\"https://raw.githubusercontent.com/numpy/numpy/181f273a59744d58f90f45d953a3285484c72cba/branding/logo/primary/numpylogo.svg\" width=\"25%\" height=\"25%\" />"
      ]
    },
    {
      "cell_type": "markdown",
      "metadata": {
        "id": "h5IXG_0qNrgM"
      },
      "source": [
        "---"
      ]
    },
    {
      "cell_type": "markdown",
      "metadata": {
        "id": "2eoV15uiJvCw"
      },
      "source": [
        "## Import Package"
      ]
    },
    {
      "cell_type": "markdown",
      "metadata": {
        "id": "hb92tOVDJvCw"
      },
      "source": [
        "* Colab offers a session with a set of packages already installed. To check which packages are installed type in a code cell **!pip freeze** and run it. In case NumPy is not installed, you may type and run in a code cell **!pip install numpy**\n",
        "* NumPy should be already incluced in this set of packages. You will just need to import it."
      ]
    },
    {
      "cell_type": "code",
      "metadata": {
        "id": "ggw1IWiqJvCx"
      },
      "source": [
        "import numpy as np"
      ],
      "execution_count": null,
      "outputs": []
    },
    {
      "cell_type": "markdown",
      "metadata": {
        "id": "xbOEdhaZNr95"
      },
      "source": [
        "---"
      ]
    },
    {
      "cell_type": "markdown",
      "metadata": {
        "id": "WaSjUGvVVDbj"
      },
      "source": [
        "## Operations"
      ]
    },
    {
      "cell_type": "markdown",
      "metadata": {
        "id": "P8ku_aJsMBsu"
      },
      "source": [
        "* Consider two distinct arrays with same dimension: arr1 and arr2"
      ]
    },
    {
      "cell_type": "code",
      "metadata": {
        "id": "ZkHGWZBEUpkb"
      },
      "source": [
        "np.random.seed(seed=2)\n",
        "arr1 = np.random.randint(low=0,high=8,size=(3,5))\n",
        "arr1\n",
        "\n",
        "#### this content goes to the video ####"
      ],
      "execution_count": null,
      "outputs": []
    },
    {
      "cell_type": "code",
      "metadata": {
        "id": "tYGm80j6oFBB"
      },
      "source": [
        "np.random.seed(seed=1)\n",
        "arr2 = np.random.randint(low=0,high=50,size=(3,5))\n",
        "arr2\n",
        "\n",
        "#### this content goes to the video ####"
      ],
      "execution_count": null,
      "outputs": []
    },
    {
      "cell_type": "markdown",
      "metadata": {
        "id": "qhujeB2FMMoP"
      },
      "source": [
        "* NumPy arrays allow operations\n",
        "* You can sum a constant to a numeric array"
      ]
    },
    {
      "cell_type": "code",
      "metadata": {
        "id": "2vGBO1j9PlVO"
      },
      "source": [
        "arr1 + 2\n",
        "\n",
        "#### this content goes to the video ####"
      ],
      "execution_count": null,
      "outputs": []
    },
    {
      "cell_type": "markdown",
      "metadata": {
        "id": "NwhTBY1LfLs7"
      },
      "source": [
        "* xxxx"
      ]
    },
    {
      "cell_type": "code",
      "metadata": {
        "id": "8k6lkVVJPqyD"
      },
      "source": [
        "arr1 / 7\n",
        "\n",
        "#### this content goes to the video ####"
      ],
      "execution_count": null,
      "outputs": []
    },
    {
      "cell_type": "markdown",
      "metadata": {
        "id": "0q86eLd1fK2K"
      },
      "source": [
        "* xxxx"
      ]
    },
    {
      "cell_type": "code",
      "metadata": {
        "id": "mHWEEjXUPNYK"
      },
      "source": [
        "arr1%3"
      ],
      "execution_count": null,
      "outputs": []
    },
    {
      "cell_type": "markdown",
      "metadata": {
        "id": "YH2CXcQkfZEU"
      },
      "source": [
        "* xxxx"
      ]
    },
    {
      "cell_type": "code",
      "metadata": {
        "id": "IS0PiYRwQn1A"
      },
      "source": [
        "arr1**3"
      ],
      "execution_count": null,
      "outputs": []
    },
    {
      "cell_type": "markdown",
      "metadata": {
        "id": "fU_bfQnCfZ5C"
      },
      "source": [
        "* You can run operations between arrays"
      ]
    },
    {
      "cell_type": "code",
      "metadata": {
        "id": "I8QMvdAAVHjK"
      },
      "source": [
        "arr1 + arr2\n",
        "\n",
        "#### this content goes to the video ####"
      ],
      "execution_count": null,
      "outputs": []
    },
    {
      "cell_type": "markdown",
      "metadata": {
        "id": "IVpw_M2lfapb"
      },
      "source": [
        "* xxxx"
      ]
    },
    {
      "cell_type": "code",
      "metadata": {
        "id": "MNMDJuoEAUwd"
      },
      "source": [
        "arr1 * arr2"
      ],
      "execution_count": null,
      "outputs": []
    },
    {
      "cell_type": "markdown",
      "metadata": {
        "id": "hnFPRUm0fg99"
      },
      "source": [
        "* xxxx"
      ]
    },
    {
      "cell_type": "code",
      "metadata": {
        "id": "yggpq1jYAgtm"
      },
      "source": [
        "arr1 - arr2"
      ],
      "execution_count": null,
      "outputs": []
    },
    {
      "cell_type": "markdown",
      "metadata": {
        "id": "JXmkbPSAfh1o"
      },
      "source": [
        "* xxxx\n",
        "* In this case, when the numerator and denominator elements are zero, the operation's result for that element is nan. You can check that on 2nd row, 4th column"
      ]
    },
    {
      "cell_type": "code",
      "metadata": {
        "id": "PTiLB487AiYZ"
      },
      "source": [
        "arr1/arr2\n",
        "\n",
        "#### this content goes to the video ####"
      ],
      "execution_count": null,
      "outputs": []
    },
    {
      "cell_type": "markdown",
      "metadata": {
        "id": "-6abaiaigFKT"
      },
      "source": [
        "* xxxx\n",
        "* In this case, when the denominator element is zero, the operation's result for that element is infinite. You can check that on 2nd row, 4th column"
      ]
    },
    {
      "cell_type": "code",
      "metadata": {
        "id": "YBKkVRg6AkOV"
      },
      "source": [
        "1/arr2\n",
        "\n",
        "#### this content goes to the video ####"
      ],
      "execution_count": null,
      "outputs": []
    },
    {
      "cell_type": "markdown",
      "metadata": {
        "id": "pMUYHr-tNslm"
      },
      "source": [
        "---"
      ]
    },
    {
      "cell_type": "markdown",
      "metadata": {
        "id": "G45witOfA44n"
      },
      "source": [
        "## Universal Functions"
      ]
    },
    {
      "cell_type": "markdown",
      "metadata": {
        "id": "i2a8q9EdgfV_"
      },
      "source": [
        "* Universal functions in NumPy  are simply mathematical functions, you can check the full list [here](https://numpy.org/doc/stable/reference/ufuncs.html).\n",
        "* Consider the array **arr** bellow"
      ]
    },
    {
      "cell_type": "code",
      "metadata": {
        "id": "zjc_KcVYCFBo"
      },
      "source": [
        "np.random.seed(seed=101)\n",
        "arr = np.random.randint(low=-10,high=25,size=(3,5))\n",
        "arr\n",
        "\n",
        "#### this content goes to the video ####"
      ],
      "execution_count": null,
      "outputs": []
    },
    {
      "cell_type": "markdown",
      "metadata": {
        "id": "43WZ8qOtgyod"
      },
      "source": [
        "* xxx"
      ]
    },
    {
      "cell_type": "code",
      "metadata": {
        "id": "6FC61u5WA7sD"
      },
      "source": [
        "np.sqrt(arr)\n",
        "\n",
        "#### this content goes to the video ####"
      ],
      "execution_count": null,
      "outputs": []
    },
    {
      "cell_type": "markdown",
      "metadata": {
        "id": "z5DdvDpig0LM"
      },
      "source": [
        "* xxx"
      ]
    },
    {
      "cell_type": "code",
      "metadata": {
        "id": "v2TLukz_r_Jb"
      },
      "source": [
        "np.abs(arr)"
      ],
      "execution_count": null,
      "outputs": []
    },
    {
      "cell_type": "markdown",
      "metadata": {
        "id": "nDKOLtVdg0xy"
      },
      "source": [
        "* xxx"
      ]
    },
    {
      "cell_type": "code",
      "metadata": {
        "id": "JO0kRbqlA9gt"
      },
      "source": [
        "np.exp(arr)"
      ],
      "execution_count": null,
      "outputs": []
    },
    {
      "cell_type": "markdown",
      "metadata": {
        "id": "tEyBCxKmg1kg"
      },
      "source": [
        "* xxx"
      ]
    },
    {
      "cell_type": "code",
      "metadata": {
        "id": "dG3QLFP7BDvn"
      },
      "source": [
        "np.sin(arr)"
      ],
      "execution_count": null,
      "outputs": []
    },
    {
      "cell_type": "markdown",
      "metadata": {
        "id": "jCvRpAHgg2EQ"
      },
      "source": [
        "* xxx"
      ]
    },
    {
      "cell_type": "code",
      "metadata": {
        "id": "NSnXFG-sBFbk"
      },
      "source": [
        "np.log(arr)\n",
        "\n",
        "#### this content goes to the video ####"
      ],
      "execution_count": null,
      "outputs": []
    },
    {
      "cell_type": "markdown",
      "metadata": {
        "id": "6RkLlf7Xg2vZ"
      },
      "source": [
        "* xxx"
      ]
    },
    {
      "cell_type": "code",
      "metadata": {
        "id": "VQLurmawpZz-"
      },
      "source": [
        "np.log2(arr)"
      ],
      "execution_count": null,
      "outputs": []
    },
    {
      "cell_type": "markdown",
      "metadata": {
        "id": "KZz3CUtsg3gW"
      },
      "source": [
        "* xxx"
      ]
    },
    {
      "cell_type": "code",
      "metadata": {
        "id": "MM98S8n8pZ5H"
      },
      "source": [
        "np.log10(arr)"
      ],
      "execution_count": null,
      "outputs": []
    },
    {
      "cell_type": "markdown",
      "metadata": {
        "id": "KxmnHW9tg4Cq"
      },
      "source": [
        "* xxx"
      ]
    },
    {
      "cell_type": "code",
      "metadata": {
        "id": "ty-rntmBCAip"
      },
      "source": [
        "np.std(arr)\n",
        "\n",
        "#### this content goes to the video ####"
      ],
      "execution_count": null,
      "outputs": []
    },
    {
      "cell_type": "markdown",
      "metadata": {
        "id": "EXHms_uBg4wh"
      },
      "source": [
        "* xxx"
      ]
    },
    {
      "cell_type": "code",
      "metadata": {
        "id": "vADKugSRo_d_"
      },
      "source": [
        "np.mean(arr)\n",
        "\n",
        "#### this content goes to the video ####"
      ],
      "execution_count": null,
      "outputs": []
    },
    {
      "cell_type": "markdown",
      "metadata": {
        "id": "ugi5SwA0g5R3"
      },
      "source": [
        "* xxx"
      ]
    },
    {
      "cell_type": "code",
      "metadata": {
        "id": "y13wWJ4NpLTL"
      },
      "source": [
        "np.median(arr)"
      ],
      "execution_count": null,
      "outputs": []
    },
    {
      "cell_type": "markdown",
      "metadata": {
        "id": "i6LG_xbGg5y7"
      },
      "source": [
        "* xxx"
      ]
    },
    {
      "cell_type": "code",
      "metadata": {
        "id": "t4hfaQx4pjxW"
      },
      "source": [
        "np.max(arr)"
      ],
      "execution_count": null,
      "outputs": []
    },
    {
      "cell_type": "markdown",
      "metadata": {
        "id": "FjVbEYGOg6jz"
      },
      "source": [
        "* xxx"
      ]
    },
    {
      "cell_type": "code",
      "metadata": {
        "id": "iOBWNMGWpj7K"
      },
      "source": [
        "np.min(arr)"
      ],
      "execution_count": null,
      "outputs": []
    },
    {
      "cell_type": "markdown",
      "metadata": {
        "id": "ON62CX7jg7aE"
      },
      "source": [
        "* You canget the sum off all values in the array with np.sum()"
      ]
    },
    {
      "cell_type": "code",
      "metadata": {
        "id": "UYE-nrwwrdoi"
      },
      "source": [
        "np.sum(arr)\n",
        "\n",
        "#### this content goes to the video ####"
      ],
      "execution_count": null,
      "outputs": []
    },
    {
      "cell_type": "markdown",
      "metadata": {
        "id": "2qCE_skSg8Yu"
      },
      "source": [
        "* A quick recap in your array content"
      ]
    },
    {
      "cell_type": "code",
      "metadata": {
        "id": "6L3qhYLkrNUa"
      },
      "source": [
        "arr\n",
        "\n",
        "#### this content goes to the video ####"
      ],
      "execution_count": null,
      "outputs": []
    },
    {
      "cell_type": "markdown",
      "metadata": {
        "id": "x2RKyBcYra58"
      },
      "source": [
        "* You can get the sum of all the columns in array, using np.sum() and setting axis= 0"
      ]
    },
    {
      "cell_type": "code",
      "metadata": {
        "id": "EJdyFy-mrd1b"
      },
      "source": [
        "np.sum(arr,axis=0)\n",
        "\n",
        "#### this content goes to the video ####"
      ],
      "execution_count": null,
      "outputs": []
    },
    {
      "cell_type": "markdown",
      "metadata": {
        "id": "PAfuWo-Dg9FH"
      },
      "source": [
        "* Or you can get the sum of all the rows in array,  using np.sum() and setting axis= 1"
      ]
    },
    {
      "cell_type": "code",
      "metadata": {
        "id": "BCs1TVBJrr-Z"
      },
      "source": [
        "np.sum(arr,1)\n",
        "\n",
        "#### this content goes to the video ####"
      ],
      "execution_count": null,
      "outputs": []
    },
    {
      "cell_type": "markdown",
      "metadata": {
        "id": "i7weP4l8gUr8"
      },
      "source": [
        "---"
      ]
    },
    {
      "cell_type": "markdown",
      "metadata": {
        "id": "dv_ZVMEFgOdC"
      },
      "source": [
        "## Extra content: NumPy and Images"
      ]
    },
    {
      "cell_type": "markdown",
      "metadata": {
        "id": "wsIUFsR_g_XQ"
      },
      "source": [
        "* Machine Learning has incredible applications when it comes to imaging. The image data handled in such applications are typically NumPy arrays.\n",
        "* The matplotlib package imported below will be studied in more detail in future units. For this exercise, you just need to be aware it is used to import and display the image file. "
      ]
    },
    {
      "cell_type": "code",
      "metadata": {
        "id": "EXwJAkIMt9QQ"
      },
      "source": [
        "import numpy as np\n",
        "import matplotlib.pyplot as plt\n",
        "from matplotlib.image import imread"
      ],
      "execution_count": null,
      "outputs": []
    },
    {
      "cell_type": "markdown",
      "metadata": {
        "id": "5zEdrB4RhS_9"
      },
      "source": [
        "* We will consider the NumPy logo image. It was taken from Wikipedia and the url for that is [here](https://upload.wikimedia.org/wikipedia/commons/thumb/3/31/NumPy_logo_2020.svg/330px-NumPy_logo_2020.svg.png)"
      ]
    },
    {
      "cell_type": "code",
      "metadata": {
        "id": "xm3wtFeqt9Wq"
      },
      "source": [
        "image_url = \"https://upload.wikimedia.org/wikipedia/commons/thumb/3/31/NumPy_logo_2020.svg/330px-NumPy_logo_2020.svg.png\""
      ],
      "execution_count": null,
      "outputs": []
    },
    {
      "cell_type": "markdown",
      "metadata": {
        "id": "KP6dxua-hfUQ"
      },
      "source": [
        "* We import the image from this url using imread() function"
      ]
    },
    {
      "cell_type": "code",
      "metadata": {
        "id": "-_k1q-T3hfr5"
      },
      "source": [
        "np_image = imread(image_url)"
      ],
      "execution_count": null,
      "outputs": []
    },
    {
      "cell_type": "markdown",
      "metadata": {
        "id": "Lu9bjMMnhmfc"
      },
      "source": [
        "* We check variable's type. It is an array, so you can apply what you learned so far"
      ]
    },
    {
      "cell_type": "code",
      "metadata": {
        "id": "Ne2dORhKwxtZ"
      },
      "source": [
        "type(np_image)"
      ],
      "execution_count": null,
      "outputs": []
    },
    {
      "cell_type": "markdown",
      "metadata": {
        "id": "QkvhXwM5hxQV"
      },
      "source": [
        "* We can display the image with imshow() function"
      ]
    },
    {
      "cell_type": "code",
      "metadata": {
        "id": "kbq42xb-zXkq"
      },
      "source": [
        "plt.imshow(np_image)"
      ],
      "execution_count": null,
      "outputs": []
    },
    {
      "cell_type": "markdown",
      "metadata": {
        "id": "qREyEN3MhzjZ"
      },
      "source": [
        "* Please run the cell below before reading the next few statments.\n",
        "* When checking the shape, it will have this order: height, width, depth. Each array element is a image pixel, in this case 149 pixels for height x 330 pixels for width.\n",
        "* The last item in the array shape is 4, that shows the color layers composition (CMYK)\n",
        "* Note the min is 0 and the max is 1. The image came already normalized, that means it came in 0-1 range. It could come in 0-255 range, then typically it is processed to fit 0-1 range. This can be done simply dividing the array by 255. However, this was not the case.\n",
        "* The 0 is translated as a white pixel, and 1 as a black pixel. Values in between relates to the color spectrum"
      ]
    },
    {
      "cell_type": "code",
      "metadata": {
        "id": "jMkYM3wk1FIY"
      },
      "source": [
        "print(\n",
        "  f\" * Array shape: {np_image.shape} \\n\"\n",
        "  f\" * Array data type : {np_image.dtype} \\n\"\n",
        "  f\" * Min value : {np_image.min()} \\n\"\n",
        "  f\" * Max value : {np_image.max()} \\n\"\n",
        "  f\" * Array content: \\n\\n {np_image}\"\n",
        ")\n"
      ],
      "execution_count": null,
      "outputs": []
    },
    {
      "cell_type": "markdown",
      "metadata": {
        "id": "fAUSYB-0mnZf"
      },
      "source": [
        "* You can slice the image and grab only a piece of it the image, say first 100 pixels  of height x last 50 pixels of width"
      ]
    },
    {
      "cell_type": "code",
      "metadata": {
        "id": "-FbI8Ev0mkoB"
      },
      "source": [
        "plt.imshow(np_image[:100,50:,:])"
      ],
      "execution_count": null,
      "outputs": []
    },
    {
      "cell_type": "markdown",
      "metadata": {
        "id": "XgEha1tEh-XS"
      },
      "source": [
        "* Now you are interested to process the image\n",
        "* You can flip the array, therefore the image, using np.flip() function. If axis = 1, it flips vertically"
      ]
    },
    {
      "cell_type": "code",
      "metadata": {
        "id": "u7MOmzNe0ok8"
      },
      "source": [
        "plt.imshow(np.flip(np_image, axis=1))"
      ],
      "execution_count": null,
      "outputs": []
    },
    {
      "cell_type": "markdown",
      "metadata": {
        "id": "E9dh_Gf1iJ_m"
      },
      "source": [
        "* If axis = 0, it flips horizontally"
      ]
    },
    {
      "cell_type": "code",
      "metadata": {
        "id": "MH84dFpTuDXD"
      },
      "source": [
        "plt.imshow(np.flip(np_image, axis=0))"
      ],
      "execution_count": null,
      "outputs": []
    },
    {
      "cell_type": "markdown",
      "metadata": {
        "id": "Ryv4z51QiPm_"
      },
      "source": [
        "* You can multiply the array (or the image) by 2\n",
        "* You will notice that for the computer, this image is just a set of numbers arranged into an array. But for us, these set of numbers are understood as an image"
      ]
    },
    {
      "cell_type": "code",
      "metadata": {
        "id": "Wts_9onz2mDC"
      },
      "source": [
        "plt.imshow(np_image*2)"
      ],
      "execution_count": null,
      "outputs": []
    },
    {
      "cell_type": "markdown",
      "metadata": {
        "id": "wUGWNCt9ifCl"
      },
      "source": [
        "* You can get the array and raise to the power of 2"
      ]
    },
    {
      "cell_type": "code",
      "metadata": {
        "id": "v8fWJjf2sWNp"
      },
      "source": [
        "plt.imshow(np_image**2)"
      ],
      "execution_count": null,
      "outputs": []
    },
    {
      "cell_type": "markdown",
      "metadata": {
        "id": "ck6N5qsRiq5y"
      },
      "source": [
        "* Or divde by 10"
      ]
    },
    {
      "cell_type": "code",
      "metadata": {
        "id": "CFQdUiohtTiy"
      },
      "source": [
        "plt.imshow(np_image/10)"
      ],
      "execution_count": null,
      "outputs": []
    },
    {
      "cell_type": "markdown",
      "metadata": {
        "id": "9gl0Cuj5N5Zc"
      },
      "source": [
        "---"
      ]
    },
    {
      "cell_type": "markdown",
      "metadata": {
        "id": "l6KeIo-9uIEa"
      },
      "source": [
        "* You cancreate your own array, using np.random.randin(), and display as if it is an image\n",
        "* Say that it has 500 pixels of width and 300 pixels of height"
      ]
    },
    {
      "cell_type": "code",
      "metadata": {
        "id": "Zo6bOAYFuIRr"
      },
      "source": [
        "arr = np.random.randint(low=0,high=255,size=(300,500,4))\n",
        "plt.imshow(arr)"
      ],
      "execution_count": null,
      "outputs": []
    },
    {
      "cell_type": "markdown",
      "metadata": {
        "id": "_5537z0azQcQ"
      },
      "source": [
        "---"
      ]
    },
    {
      "cell_type": "markdown",
      "metadata": {
        "id": "PImjaqi6udMX"
      },
      "source": [
        "## Challenges"
      ]
    },
    {
      "cell_type": "markdown",
      "metadata": {
        "id": "1uh5taAZudMZ"
      },
      "source": [
        "<img src=\"https://pbs.twimg.com/profile_images/751014307790462977/iHBKhhSe_400x400.jpg\" width=\"15%\"  />\n",
        "\n"
      ]
    },
    {
      "cell_type": "markdown",
      "metadata": {
        "id": "rE1GXbUqudMZ"
      },
      "source": [
        "### Challenge 01"
      ]
    },
    {
      "cell_type": "markdown",
      "metadata": {
        "id": "Hzx_5w0KudMa"
      },
      "source": [
        "* xxxx"
      ]
    },
    {
      "cell_type": "code",
      "metadata": {
        "id": "l9jsM-4KudMa"
      },
      "source": [
        "# Write in this cell your solution\n",
        "\n",
        "\n"
      ],
      "execution_count": null,
      "outputs": []
    },
    {
      "cell_type": "code",
      "metadata": {
        "id": "_tceOOtJudMb"
      },
      "source": [
        "# For development/internal use - here goes the suggested challenge solution\n",
        "\n",
        "\n"
      ],
      "execution_count": null,
      "outputs": []
    },
    {
      "cell_type": "markdown",
      "metadata": {
        "id": "OC56iH-judMb"
      },
      "source": [
        "### Challenge 02"
      ]
    },
    {
      "cell_type": "markdown",
      "metadata": {
        "id": "b_jxMLcSudMb"
      },
      "source": [
        "* xxxxx"
      ]
    },
    {
      "cell_type": "code",
      "metadata": {
        "id": "hx6nxHwoudMc"
      },
      "source": [
        "# Write in this cell your solution\n",
        "\n",
        "\n"
      ],
      "execution_count": null,
      "outputs": []
    },
    {
      "cell_type": "code",
      "metadata": {
        "id": "13Z-8fjQudMc"
      },
      "source": [
        "# For development/internal use - here goes the suggested challenge solution\n",
        "\n",
        "\n"
      ],
      "execution_count": null,
      "outputs": []
    },
    {
      "cell_type": "markdown",
      "metadata": {
        "id": "tJsg6p7sudMc"
      },
      "source": [
        "---"
      ]
    },
    {
      "cell_type": "markdown",
      "metadata": {
        "id": "Abx_VbuNNzck"
      },
      "source": [
        "### Challenge 03"
      ]
    },
    {
      "cell_type": "markdown",
      "metadata": {
        "id": "8ngKXAENNzcw"
      },
      "source": [
        "* xxxxx"
      ]
    },
    {
      "cell_type": "code",
      "metadata": {
        "id": "1L7R5lPBNzcy"
      },
      "source": [
        "# Write in this cell your solution\n",
        "\n",
        "\n"
      ],
      "execution_count": null,
      "outputs": []
    },
    {
      "cell_type": "code",
      "metadata": {
        "id": "TWoO3nUnNzc1"
      },
      "source": [
        "# For development/internal use - here goes the suggested challenge solution\n",
        "\n",
        "\n"
      ],
      "execution_count": null,
      "outputs": []
    },
    {
      "cell_type": "markdown",
      "metadata": {
        "id": "AfIF5MZ-Nzc2"
      },
      "source": [
        "---"
      ]
    },
    {
      "cell_type": "markdown",
      "metadata": {
        "id": "reD20UAqutS3"
      },
      "source": [
        "## Well done!\n",
        "\n"
      ]
    },
    {
      "cell_type": "markdown",
      "metadata": {
        "id": "K9l5VWurz6eI"
      },
      "source": [
        "* Save this notebook. \n",
        "  * Go to: File → Save a copy in GitHub\n",
        "  * In the **Repository** menu, select your username followed by \"data-practitioner-notebook-lessons\"\n",
        "  * The **branch** should be main.\n",
        "  * You may write a custom message at \"Commit Message\", or leave as it is.\n",
        "  * You should **tick** \"Include a link to Colaboratory\", so you can have a shortcut to open your notebook at Colab when previewing the notebook \n",
        "* Once you **receive a confirmation it was pushed to the Repo**, close this notebook and proceed to the next unit lesson!"
      ]
    },
    {
      "cell_type": "markdown",
      "metadata": {
        "id": "7jSpjFnbutS5"
      },
      "source": [
        "<img src=\"https://www.learningpeople.com/static/1e2d1b1046220ce9fa0222b5790b86bc/b3853/code-institute.png\" width=\"20%\" height=\"20%\" />"
      ]
    },
    {
      "cell_type": "markdown",
      "metadata": {
        "id": "PqoCzFjAutS5"
      },
      "source": [
        "---"
      ]
    }
  ]
}